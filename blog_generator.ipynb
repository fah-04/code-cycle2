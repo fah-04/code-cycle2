{
  "nbformat": 4,
  "nbformat_minor": 0,
  "metadata": {
    "colab": {
      "provenance": [],
      "authorship_tag": "ABX9TyPgAfof0/DxZ0rDRea6UfxH",
      "include_colab_link": true
    },
    "kernelspec": {
      "name": "python3",
      "display_name": "Python 3"
    },
    "language_info": {
      "name": "python"
    }
  },
  "cells": [
    {
      "cell_type": "markdown",
      "metadata": {
        "id": "view-in-github",
        "colab_type": "text"
      },
      "source": [
        "<a href=\"https://colab.research.google.com/github/fah-04/code-cycle2/blob/main/blog_generator.ipynb\" target=\"_parent\"><img src=\"https://colab.research.google.com/assets/colab-badge.svg\" alt=\"Open In Colab\"/></a>"
      ]
    },
    {
      "cell_type": "code",
      "execution_count": 1,
      "metadata": {
        "id": "jQHQcPaJOayb"
      },
      "outputs": [],
      "source": [
        "import numpy as np\n",
        "import pandas as pd\n",
        "import nltk\n",
        "import re\n",
        "from nltk.tokenize import sent_tokenize\n",
        "from nltk.corpus import stopwords\n",
        "from gensim.models import Word2Vec\n",
        "from scipy import spatial\n",
        "import networkx as nx\n",
        "import csv"
      ]
    },
    {
      "cell_type": "code",
      "source": [
        "df = pd.read_csv (\"/content/medium_articles.csv\")\n",
        "df.head()"
      ],
      "metadata": {
        "colab": {
          "base_uri": "https://localhost:8080/",
          "height": 469
        },
        "id": "b3FXkPvnQgFN",
        "outputId": "a08bbacb-1118-460f-9dca-9a59f58bbb68"
      },
      "execution_count": 2,
      "outputs": [
        {
          "output_type": "execute_result",
          "data": {
            "text/plain": [
              "                              title  \\\n",
              "0               Mental Note Vol. 24   \n",
              "1         Your Brain On Coronavirus   \n",
              "2                    Mind Your Nose   \n",
              "3          The 4 Purposes of Dreams   \n",
              "4  Surviving a Rod Through the Head   \n",
              "\n",
              "                                                text  \\\n",
              "0  Photo by Josh Riemer on Unsplash\\n\\nMerry Chri...   \n",
              "1  Your Brain On Coronavirus\\n\\nA guide to the cu...   \n",
              "2  Mind Your Nose\\n\\nHow smell training can chang...   \n",
              "3  Passionate about the synergy between science a...   \n",
              "4  You’ve heard of him, haven’t you? Phineas Gage...   \n",
              "\n",
              "                                                 url                 authors  \\\n",
              "0  https://medium.com/invisible-illness/mental-no...            ['Ryan Fan']   \n",
              "1  https://medium.com/age-of-awareness/how-the-pa...       ['Simon Spichak']   \n",
              "2  https://medium.com/neodotlife/mind-your-nose-f...                      []   \n",
              "3  https://medium.com/science-for-real/the-4-purp...  ['Eshan Samaranayake']   \n",
              "4  https://medium.com/live-your-life-on-purpose/s...        ['Rishav Sinha']   \n",
              "\n",
              "                          timestamp  \\\n",
              "0  2020-12-26 03:38:10.479000+00:00   \n",
              "1  2020-09-23 22:10:17.126000+00:00   \n",
              "2  2020-10-10 20:17:37.132000+00:00   \n",
              "3  2020-12-21 16:05:19.524000+00:00   \n",
              "4  2020-02-26 00:01:01.576000+00:00   \n",
              "\n",
              "                                                tags  \n",
              "0  ['Mental Health', 'Health', 'Psychology', 'Sci...  \n",
              "1  ['Mental Health', 'Coronavirus', 'Science', 'P...  \n",
              "2  ['Biotechnology', 'Neuroscience', 'Brain', 'We...  \n",
              "3  ['Health', 'Neuroscience', 'Mental Health', 'P...  \n",
              "4  ['Brain', 'Health', 'Development', 'Psychology...  "
            ],
            "text/html": [
              "\n",
              "  <div id=\"df-572aeca9-9c68-4638-8cc9-f730fb569c1c\" class=\"colab-df-container\">\n",
              "    <div>\n",
              "<style scoped>\n",
              "    .dataframe tbody tr th:only-of-type {\n",
              "        vertical-align: middle;\n",
              "    }\n",
              "\n",
              "    .dataframe tbody tr th {\n",
              "        vertical-align: top;\n",
              "    }\n",
              "\n",
              "    .dataframe thead th {\n",
              "        text-align: right;\n",
              "    }\n",
              "</style>\n",
              "<table border=\"1\" class=\"dataframe\">\n",
              "  <thead>\n",
              "    <tr style=\"text-align: right;\">\n",
              "      <th></th>\n",
              "      <th>title</th>\n",
              "      <th>text</th>\n",
              "      <th>url</th>\n",
              "      <th>authors</th>\n",
              "      <th>timestamp</th>\n",
              "      <th>tags</th>\n",
              "    </tr>\n",
              "  </thead>\n",
              "  <tbody>\n",
              "    <tr>\n",
              "      <th>0</th>\n",
              "      <td>Mental Note Vol. 24</td>\n",
              "      <td>Photo by Josh Riemer on Unsplash\\n\\nMerry Chri...</td>\n",
              "      <td>https://medium.com/invisible-illness/mental-no...</td>\n",
              "      <td>['Ryan Fan']</td>\n",
              "      <td>2020-12-26 03:38:10.479000+00:00</td>\n",
              "      <td>['Mental Health', 'Health', 'Psychology', 'Sci...</td>\n",
              "    </tr>\n",
              "    <tr>\n",
              "      <th>1</th>\n",
              "      <td>Your Brain On Coronavirus</td>\n",
              "      <td>Your Brain On Coronavirus\\n\\nA guide to the cu...</td>\n",
              "      <td>https://medium.com/age-of-awareness/how-the-pa...</td>\n",
              "      <td>['Simon Spichak']</td>\n",
              "      <td>2020-09-23 22:10:17.126000+00:00</td>\n",
              "      <td>['Mental Health', 'Coronavirus', 'Science', 'P...</td>\n",
              "    </tr>\n",
              "    <tr>\n",
              "      <th>2</th>\n",
              "      <td>Mind Your Nose</td>\n",
              "      <td>Mind Your Nose\\n\\nHow smell training can chang...</td>\n",
              "      <td>https://medium.com/neodotlife/mind-your-nose-f...</td>\n",
              "      <td>[]</td>\n",
              "      <td>2020-10-10 20:17:37.132000+00:00</td>\n",
              "      <td>['Biotechnology', 'Neuroscience', 'Brain', 'We...</td>\n",
              "    </tr>\n",
              "    <tr>\n",
              "      <th>3</th>\n",
              "      <td>The 4 Purposes of Dreams</td>\n",
              "      <td>Passionate about the synergy between science a...</td>\n",
              "      <td>https://medium.com/science-for-real/the-4-purp...</td>\n",
              "      <td>['Eshan Samaranayake']</td>\n",
              "      <td>2020-12-21 16:05:19.524000+00:00</td>\n",
              "      <td>['Health', 'Neuroscience', 'Mental Health', 'P...</td>\n",
              "    </tr>\n",
              "    <tr>\n",
              "      <th>4</th>\n",
              "      <td>Surviving a Rod Through the Head</td>\n",
              "      <td>You’ve heard of him, haven’t you? Phineas Gage...</td>\n",
              "      <td>https://medium.com/live-your-life-on-purpose/s...</td>\n",
              "      <td>['Rishav Sinha']</td>\n",
              "      <td>2020-02-26 00:01:01.576000+00:00</td>\n",
              "      <td>['Brain', 'Health', 'Development', 'Psychology...</td>\n",
              "    </tr>\n",
              "  </tbody>\n",
              "</table>\n",
              "</div>\n",
              "    <div class=\"colab-df-buttons\">\n",
              "\n",
              "  <div class=\"colab-df-container\">\n",
              "    <button class=\"colab-df-convert\" onclick=\"convertToInteractive('df-572aeca9-9c68-4638-8cc9-f730fb569c1c')\"\n",
              "            title=\"Convert this dataframe to an interactive table.\"\n",
              "            style=\"display:none;\">\n",
              "\n",
              "  <svg xmlns=\"http://www.w3.org/2000/svg\" height=\"24px\" viewBox=\"0 -960 960 960\">\n",
              "    <path d=\"M120-120v-720h720v720H120Zm60-500h600v-160H180v160Zm220 220h160v-160H400v160Zm0 220h160v-160H400v160ZM180-400h160v-160H180v160Zm440 0h160v-160H620v160ZM180-180h160v-160H180v160Zm440 0h160v-160H620v160Z\"/>\n",
              "  </svg>\n",
              "    </button>\n",
              "\n",
              "  <style>\n",
              "    .colab-df-container {\n",
              "      display:flex;\n",
              "      gap: 12px;\n",
              "    }\n",
              "\n",
              "    .colab-df-convert {\n",
              "      background-color: #E8F0FE;\n",
              "      border: none;\n",
              "      border-radius: 50%;\n",
              "      cursor: pointer;\n",
              "      display: none;\n",
              "      fill: #1967D2;\n",
              "      height: 32px;\n",
              "      padding: 0 0 0 0;\n",
              "      width: 32px;\n",
              "    }\n",
              "\n",
              "    .colab-df-convert:hover {\n",
              "      background-color: #E2EBFA;\n",
              "      box-shadow: 0px 1px 2px rgba(60, 64, 67, 0.3), 0px 1px 3px 1px rgba(60, 64, 67, 0.15);\n",
              "      fill: #174EA6;\n",
              "    }\n",
              "\n",
              "    .colab-df-buttons div {\n",
              "      margin-bottom: 4px;\n",
              "    }\n",
              "\n",
              "    [theme=dark] .colab-df-convert {\n",
              "      background-color: #3B4455;\n",
              "      fill: #D2E3FC;\n",
              "    }\n",
              "\n",
              "    [theme=dark] .colab-df-convert:hover {\n",
              "      background-color: #434B5C;\n",
              "      box-shadow: 0px 1px 3px 1px rgba(0, 0, 0, 0.15);\n",
              "      filter: drop-shadow(0px 1px 2px rgba(0, 0, 0, 0.3));\n",
              "      fill: #FFFFFF;\n",
              "    }\n",
              "  </style>\n",
              "\n",
              "    <script>\n",
              "      const buttonEl =\n",
              "        document.querySelector('#df-572aeca9-9c68-4638-8cc9-f730fb569c1c button.colab-df-convert');\n",
              "      buttonEl.style.display =\n",
              "        google.colab.kernel.accessAllowed ? 'block' : 'none';\n",
              "\n",
              "      async function convertToInteractive(key) {\n",
              "        const element = document.querySelector('#df-572aeca9-9c68-4638-8cc9-f730fb569c1c');\n",
              "        const dataTable =\n",
              "          await google.colab.kernel.invokeFunction('convertToInteractive',\n",
              "                                                    [key], {});\n",
              "        if (!dataTable) return;\n",
              "\n",
              "        const docLinkHtml = 'Like what you see? Visit the ' +\n",
              "          '<a target=\"_blank\" href=https://colab.research.google.com/notebooks/data_table.ipynb>data table notebook</a>'\n",
              "          + ' to learn more about interactive tables.';\n",
              "        element.innerHTML = '';\n",
              "        dataTable['output_type'] = 'display_data';\n",
              "        await google.colab.output.renderOutput(dataTable, element);\n",
              "        const docLink = document.createElement('div');\n",
              "        docLink.innerHTML = docLinkHtml;\n",
              "        element.appendChild(docLink);\n",
              "      }\n",
              "    </script>\n",
              "  </div>\n",
              "\n",
              "\n",
              "<div id=\"df-4ca296af-ddeb-4458-b65c-b74ed2c30a9b\">\n",
              "  <button class=\"colab-df-quickchart\" onclick=\"quickchart('df-4ca296af-ddeb-4458-b65c-b74ed2c30a9b')\"\n",
              "            title=\"Suggest charts\"\n",
              "            style=\"display:none;\">\n",
              "\n",
              "<svg xmlns=\"http://www.w3.org/2000/svg\" height=\"24px\"viewBox=\"0 0 24 24\"\n",
              "     width=\"24px\">\n",
              "    <g>\n",
              "        <path d=\"M19 3H5c-1.1 0-2 .9-2 2v14c0 1.1.9 2 2 2h14c1.1 0 2-.9 2-2V5c0-1.1-.9-2-2-2zM9 17H7v-7h2v7zm4 0h-2V7h2v10zm4 0h-2v-4h2v4z\"/>\n",
              "    </g>\n",
              "</svg>\n",
              "  </button>\n",
              "\n",
              "<style>\n",
              "  .colab-df-quickchart {\n",
              "      --bg-color: #E8F0FE;\n",
              "      --fill-color: #1967D2;\n",
              "      --hover-bg-color: #E2EBFA;\n",
              "      --hover-fill-color: #174EA6;\n",
              "      --disabled-fill-color: #AAA;\n",
              "      --disabled-bg-color: #DDD;\n",
              "  }\n",
              "\n",
              "  [theme=dark] .colab-df-quickchart {\n",
              "      --bg-color: #3B4455;\n",
              "      --fill-color: #D2E3FC;\n",
              "      --hover-bg-color: #434B5C;\n",
              "      --hover-fill-color: #FFFFFF;\n",
              "      --disabled-bg-color: #3B4455;\n",
              "      --disabled-fill-color: #666;\n",
              "  }\n",
              "\n",
              "  .colab-df-quickchart {\n",
              "    background-color: var(--bg-color);\n",
              "    border: none;\n",
              "    border-radius: 50%;\n",
              "    cursor: pointer;\n",
              "    display: none;\n",
              "    fill: var(--fill-color);\n",
              "    height: 32px;\n",
              "    padding: 0;\n",
              "    width: 32px;\n",
              "  }\n",
              "\n",
              "  .colab-df-quickchart:hover {\n",
              "    background-color: var(--hover-bg-color);\n",
              "    box-shadow: 0 1px 2px rgba(60, 64, 67, 0.3), 0 1px 3px 1px rgba(60, 64, 67, 0.15);\n",
              "    fill: var(--button-hover-fill-color);\n",
              "  }\n",
              "\n",
              "  .colab-df-quickchart-complete:disabled,\n",
              "  .colab-df-quickchart-complete:disabled:hover {\n",
              "    background-color: var(--disabled-bg-color);\n",
              "    fill: var(--disabled-fill-color);\n",
              "    box-shadow: none;\n",
              "  }\n",
              "\n",
              "  .colab-df-spinner {\n",
              "    border: 2px solid var(--fill-color);\n",
              "    border-color: transparent;\n",
              "    border-bottom-color: var(--fill-color);\n",
              "    animation:\n",
              "      spin 1s steps(1) infinite;\n",
              "  }\n",
              "\n",
              "  @keyframes spin {\n",
              "    0% {\n",
              "      border-color: transparent;\n",
              "      border-bottom-color: var(--fill-color);\n",
              "      border-left-color: var(--fill-color);\n",
              "    }\n",
              "    20% {\n",
              "      border-color: transparent;\n",
              "      border-left-color: var(--fill-color);\n",
              "      border-top-color: var(--fill-color);\n",
              "    }\n",
              "    30% {\n",
              "      border-color: transparent;\n",
              "      border-left-color: var(--fill-color);\n",
              "      border-top-color: var(--fill-color);\n",
              "      border-right-color: var(--fill-color);\n",
              "    }\n",
              "    40% {\n",
              "      border-color: transparent;\n",
              "      border-right-color: var(--fill-color);\n",
              "      border-top-color: var(--fill-color);\n",
              "    }\n",
              "    60% {\n",
              "      border-color: transparent;\n",
              "      border-right-color: var(--fill-color);\n",
              "    }\n",
              "    80% {\n",
              "      border-color: transparent;\n",
              "      border-right-color: var(--fill-color);\n",
              "      border-bottom-color: var(--fill-color);\n",
              "    }\n",
              "    90% {\n",
              "      border-color: transparent;\n",
              "      border-bottom-color: var(--fill-color);\n",
              "    }\n",
              "  }\n",
              "</style>\n",
              "\n",
              "  <script>\n",
              "    async function quickchart(key) {\n",
              "      const quickchartButtonEl =\n",
              "        document.querySelector('#' + key + ' button');\n",
              "      quickchartButtonEl.disabled = true;  // To prevent multiple clicks.\n",
              "      quickchartButtonEl.classList.add('colab-df-spinner');\n",
              "      try {\n",
              "        const charts = await google.colab.kernel.invokeFunction(\n",
              "            'suggestCharts', [key], {});\n",
              "      } catch (error) {\n",
              "        console.error('Error during call to suggestCharts:', error);\n",
              "      }\n",
              "      quickchartButtonEl.classList.remove('colab-df-spinner');\n",
              "      quickchartButtonEl.classList.add('colab-df-quickchart-complete');\n",
              "    }\n",
              "    (() => {\n",
              "      let quickchartButtonEl =\n",
              "        document.querySelector('#df-4ca296af-ddeb-4458-b65c-b74ed2c30a9b button');\n",
              "      quickchartButtonEl.style.display =\n",
              "        google.colab.kernel.accessAllowed ? 'block' : 'none';\n",
              "    })();\n",
              "  </script>\n",
              "</div>\n",
              "\n",
              "    </div>\n",
              "  </div>\n"
            ],
            "application/vnd.google.colaboratory.intrinsic+json": {
              "type": "dataframe",
              "variable_name": "df"
            }
          },
          "metadata": {},
          "execution_count": 2
        }
      ]
    },
    {
      "cell_type": "code",
      "source": [
        "df=df [['title', 'text']]\n",
        "df.shape"
      ],
      "metadata": {
        "id": "O6TFtVyDREmU",
        "colab": {
          "base_uri": "https://localhost:8080/"
        },
        "outputId": "0c295007-27cf-4b3c-b5f5-b03bacda00f8"
      },
      "execution_count": 3,
      "outputs": [
        {
          "output_type": "execute_result",
          "data": {
            "text/plain": [
              "(192368, 2)"
            ]
          },
          "metadata": {},
          "execution_count": 3
        }
      ]
    },
    {
      "cell_type": "code",
      "source": [
        "df = df.drop_duplicates()\n",
        "df.shape"
      ],
      "metadata": {
        "colab": {
          "base_uri": "https://localhost:8080/"
        },
        "id": "PgcUTYqzSWGD",
        "outputId": "9ebcd7b7-4c28-4532-e3d3-f61453dad932"
      },
      "execution_count": 4,
      "outputs": [
        {
          "output_type": "execute_result",
          "data": {
            "text/plain": [
              "(190827, 2)"
            ]
          },
          "metadata": {},
          "execution_count": 4
        }
      ]
    },
    {
      "cell_type": "code",
      "source": [
        "df['text'] = df['text'].str.replace('\\n', '</n/>')"
      ],
      "metadata": {
        "id": "0qz7S0nMSgjg"
      },
      "execution_count": 5,
      "outputs": []
    },
    {
      "cell_type": "code",
      "source": [
        "sample_blog = df['text'][10]\n",
        "print(sample_blog)"
      ],
      "metadata": {
        "colab": {
          "base_uri": "https://localhost:8080/"
        },
        "id": "xhTL_g9_SszU",
        "outputId": "c7195c2f-d2f9-4024-cf8d-068fb6452347"
      },
      "execution_count": 6,
      "outputs": [
        {
          "output_type": "stream",
          "name": "stdout",
          "text": [
            "Photo credit: Leo Leung</n/></n/>People want to know why you do what you do.</n/></n/>If you’re an entrepreneur, your investors, customers, and employees want to know why you founded your company. Apply for a job, and recruiters ask about your career path. If you’re a freelancer, everyone is curious about how you got started.</n/></n/>Why do we crave origin stories? Because they reveal character. Superman is a good guy because his planet exploded, his parents sent him to Earth, and the Kents raised him to fight evil. Steve Jobs became a trusted CEO, in part, by bouncing back from failure. My dad thrived as a home builder, but only after terminating a partnership with a prominent colleague whose practices he found unethical.</n/></n/>In other words:</n/></n/>Your origin story helps people decide whether or not to trust you.</n/></n/>How to Craft a Powerful Origin Story: The 5 Essential Elements</n/></n/>In strategic messaging and positioning engagements with CEOs, as well as business storytelling workshops for teams, I’ve helped hundreds of people construct origin stories. The best instantly convey not only trustworthiness, but also traits like commitment, persistence, and curiosity.</n/></n/>So what makes a great origin story work?</n/></n/>At the heart of every great origin story is a single event that forever changes the course of the teller’s life. Typically it arises out of failure or disappointment; sometimes it’s an unexpected discovery. Very frequently, another person illuminates a new way forward.</n/></n/>Can you pinpoint the event that set you on your current path? (Yes, we all have one.) The event doesn’t have to be life-changing in the “I won the lottery” sense (though congrats if that happened). It just has to reorient you towards what you’re doing now.</n/></n/>Once you’ve identified your event, construct your origin story around it using the following five components, and tell it in this order:</n/></n/>1. Once upon a time…</n/></n/>How was your life before the life-changing event? Most importantly, what did you want back then? Share relevant details: How old were you? Where did you live? When did this happen? (No, you don’t literally have to start with “Once upon a time…”)</n/></n/>For example, here’s the “Once upon a time…” for my origin story:</n/></n/>Back in the dot-com years, I was living in Manhattan, struggling to fund my startup. It was not going well. One VC attached a hand-written note to his standard rejection letter: “Andy, I rate every business plan I receive on a scale of one to 10. Yours is a one.” At the bottom, he wrote, “P.S. Not a compelling story.”</n/></n/>2. “Then one day…”</n/></n/>Next, describe your life-changing event. If possible, tell this section as a scene with details that the listener can sense (visualize, hear, smell, etc.). Again, here’s mine:</n/></n/>One day, I’m walking up Broadway, when I notice a huge sign in the window of a Barnes and Noble. The sign says, “For anyone who wants to tell a compelling story,” and it’s pointing to a book about screenwriting. I buy the book.</n/></n/>3. “Because of that…”</n/></n/>What relevant events were then set in motion? What obstacles did you have to overcome? Basically, describe what happened next:</n/></n/>That night, I read the book from cover to cover. It’s written in the language of feature films (three act structure, etc.), but much of it seems to apply to telling the story of a startup. I rewrite my pitch and send it to a new batch of investors.</n/></n/>4. “Until finally…”</n/></n/>What was the turning point — the moment when you really committed to the new path? It’s especially effective to reflect here on how you changed and what you learned:</n/></n/>After receiving the revised pitch, several investor groups invite my team to their offices, and four months later we have a term sheet from a prominent Silicon Valley venture firm. The numbers, the team — all remained same. The only thing that changed was how we told our story.</n/></n/>5. “So now…”</n/></n/>Last but not least, describe what you do now, and connect it to the story.</n/></n/>So now I help leadership teams craft strategic messaging and positioning, which is really just their story — the story they use to power fundraising, sales, marketing, recruiting, and product. I also teach storytelling workshops for teams. And I can trace it all back to my failed pitch.</n/></n/>Swap Origin Stories with Others to Quickly Build Stronger Relationships</n/></n/>Once you’ve drafted your own origin story, tell it a few times to see what works. That’s not to say you should introduce yourself to strangers with “Once upon a time...” But if you’re embarking on a relationship with someone new — a customer, a prospect, an investor— and they ask, try it out. Pay particular attention to where they lean in.</n/></n/>Also, ask others to tell you their origin stories. Listen closely, and you’ll quickly learn about their character, values and desires, which can be helpful in all sorts of relationships.</n/></n/>As one woman in my recent General Assembly workshop said after swapping origin stories with a classmate: “There’s something about sharing these stories that makes me feel instantly connected.”\n"
          ]
        }
      ]
    },
    {
      "cell_type": "code",
      "source": [
        "!pip install nltk\n",
        "import nltk\n",
        "nltk.download('punkt')\n",
        "nltk.download('stopwords') # Download the stopwords resource\n",
        "\n",
        "sentences = sent_tokenize(sample_blog)\n",
        "sentences_clean = [re.sub(r'[^\\w\\s]','', sentence.lower()) for sentence in sentences]\n",
        "stop_words = stopwords.words('english')\n",
        "sentence_tokens = [[words for words in sentence.split() if words not in stop_words] for sentence in sentences_clean]\n",
        "w2v = Word2Vec(sentence_tokens, vector_size=1,min_count=1, epochs=1000)\n",
        "sentence_embeddings=[[w2v.wv.get_vector(word) [0] for word in words] for words in sentence_tokens]\n",
        "max_len=max([len(tokens) for tokens in sentence_tokens])\n",
        "sentence_embeddings = [np.pad(embedding, (0, max_len-len (embedding)), 'constant') for embedding in sentence_embeddings]"
      ],
      "metadata": {
        "colab": {
          "base_uri": "https://localhost:8080/"
        },
        "id": "qSqIrdYcUYpY",
        "outputId": "786a0842-0c20-4acc-8d63-bf229e942cf9"
      },
      "execution_count": 9,
      "outputs": [
        {
          "output_type": "stream",
          "name": "stdout",
          "text": [
            "Requirement already satisfied: nltk in /usr/local/lib/python3.10/dist-packages (3.8.1)\n",
            "Requirement already satisfied: click in /usr/local/lib/python3.10/dist-packages (from nltk) (8.1.7)\n",
            "Requirement already satisfied: joblib in /usr/local/lib/python3.10/dist-packages (from nltk) (1.4.2)\n",
            "Requirement already satisfied: regex>=2021.8.3 in /usr/local/lib/python3.10/dist-packages (from nltk) (2024.5.15)\n",
            "Requirement already satisfied: tqdm in /usr/local/lib/python3.10/dist-packages (from nltk) (4.66.5)\n"
          ]
        },
        {
          "output_type": "stream",
          "name": "stderr",
          "text": [
            "[nltk_data] Downloading package punkt to /root/nltk_data...\n",
            "[nltk_data]   Unzipping tokenizers/punkt.zip.\n",
            "[nltk_data] Downloading package stopwords to /root/nltk_data...\n",
            "[nltk_data]   Unzipping corpora/stopwords.zip.\n"
          ]
        }
      ]
    },
    {
      "cell_type": "code",
      "source": [
        "similarity_matrix = np.zeros([len(sentence_tokens), len(sentence_tokens)])\n",
        "for i, row_embedding in enumerate(sentence_embeddings):\n",
        "  for j, column_embedding in enumerate(sentence_embeddings):\n",
        "    similarity_matrix[i][j] = 1 - spatial.distance.cosine(row_embedding, column_embedding)\n",
        "\n",
        "nx_graph = nx.from_numpy_array(similarity_matrix)\n",
        "scores = nx.pagerank(nx_graph, max_iter=600)\n",
        "top_sentence = {sentence: scores[index] for index, sentence in enumerate(sentences)}\n",
        "\n",
        "sentNeeded = round(0.25 * len(sentences))- 1\n",
        "top = dict(sorted(top_sentence.items(), key=lambda x: x[1], reverse=True)[:sentNeeded])\n",
        "\n",
        "summary = \"\"\n",
        "for sent in sentences:\n",
        "  if sent in top.keys():\n",
        "    summary += sent\n",
        "\n",
        "print(summary)\n",
        "\n"
      ],
      "metadata": {
        "colab": {
          "base_uri": "https://localhost:8080/"
        },
        "id": "__k80tOpVSY2",
        "outputId": "d60f2f48-1738-449d-9905-37cdb6ed0340"
      },
      "execution_count": 10,
      "outputs": [
        {
          "output_type": "stream",
          "name": "stdout",
          "text": [
            "Apply for a job, and recruiters ask about your career path.If you’re a freelancer, everyone is curious about how you got started.</n/></n/>Why do we crave origin stories?Steve Jobs became a trusted CEO, in part, by bouncing back from failure.Typically it arises out of failure or disappointment; sometimes it’s an unexpected discovery.Very frequently, another person illuminates a new way forward.</n/></n/>Can you pinpoint the event that set you on your current path?The sign says, “For anyone who wants to tell a compelling story,” and it’s pointing to a book about screenwriting.Basically, describe what happened next:</n/></n/>That night, I read the book from cover to cover.It’s written in the language of feature films (three act structure, etc.“Until finally…”</n/></n/>What was the turning point — the moment when you really committed to the new path?Pay particular attention to where they lean in.</n/></n/>Also, ask others to tell you their origin stories.\n"
          ]
        }
      ]
    },
    {
      "cell_type": "code",
      "source": [
        "count = 0\n",
        "def generateSummary(blog):\n",
        "  global count\n",
        "  count += 1\n",
        "  print(\"Summarising blog\", count)\n",
        "  try:\n",
        "    sentences = sent_tokenize(blog)\n",
        "    sentences_clean = [re.sub(r'[^\\w\\s]','', sentence.lower()) for sentence in sentences]\n",
        "    stop_words = stopwords.words('english')\n",
        "    sentence_tokens = [[words for words in sentence.split() if words not in stop_words] for sentence in sentences_clean]\n",
        "    w2v = Word2Vec (sentence_tokens, vector_size=1,min_count=1, epochs=1000)\n",
        "    sentence_embeddings = [[w2v.wv.get_vector(word)[0] for word in words] for words in sentence_tokens]\n",
        "    max_len=max([len(tokens) for tokens in sentence_tokens])\n",
        "    sentence_embeddings = [np.pad(embedding, (0, max_len-len(embedding)), 'constant') for embedding in sentence_embeddings]\n",
        "    similarity_matrix = np.zeros([len(sentence_tokens), len(sentence_tokens)])\n",
        "    for i, row_embedding in enumerate (sentence_embeddings):\n",
        "      for j,column_embedding in enumerate (sentence_embeddings):\n",
        "        similarity_matrix[i][j]=1-spatial.distance.cosine(row_embedding,column_embedding)\n",
        "        nx_graph = nx.from_numpy_array(similarity_matrix)\n",
        "        scores = nx.pagerank(nx_graph, max_iter=688)\n",
        "        top_sentence = {sentence:scores [index] for index, sentence in enumerate (sentences)}\n",
        "        sentNeeded = round (0.25 * len(sentences)) -1\n",
        "        top = dict(sorted (top_sentence.items(), key=lambda x: x[1], reverse=True) [:sentNeeded])\n",
        "        summary = \" \"\n",
        "        for sent in sentences:\n",
        "          if sent in top.keys():\n",
        "            summary += sent\n",
        "        return summary\n",
        "  except:\n",
        "        return float(\"NaN\")"
      ],
      "metadata": {
        "id": "YPeD5CjFbclr"
      },
      "execution_count": 11,
      "outputs": []
    },
    {
      "cell_type": "code",
      "source": [
        "import math\n",
        "filename = \"articlesSet.csv\"\n",
        "fields = ['title', 'summary', 'content']\n",
        "with open(filename, 'a') as csvfile:\n",
        "    csvwriter = csv.writer(csvfile)\n",
        "    csvwriter.writerow(fields)\n",
        "    def callback(row):\n",
        "      summary = generateSummary(row['text'])\n",
        "      if(type (summary) != str):\n",
        "        return\n",
        "      rows = [row['title'], summary, row['text']]\n",
        "      csvwriter.writerow (rows)\n",
        "    df.apply(lambda row: callback(row), axis=1)"
      ],
      "metadata": {
        "id": "wNc6-IDfrxwI"
      },
      "execution_count": null,
      "outputs": []
    }
  ]
}